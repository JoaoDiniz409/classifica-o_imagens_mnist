{
  "cells": [
    {
      "cell_type": "markdown",
      "metadata": {
        "id": "view-in-github",
        "colab_type": "text"
      },
      "source": [
        "<a href=\"https://colab.research.google.com/github/JoaoDiniz409/classifica-o_imagens_mnist/blob/main/mnist.ipynb\" target=\"_parent\"><img src=\"https://colab.research.google.com/assets/colab-badge.svg\" alt=\"Open In Colab\"/></a>"
      ]
    },
    {
      "cell_type": "code",
      "execution_count": null,
      "metadata": {
        "id": "IqY8-9YHXpkh"
      },
      "outputs": [],
      "source": [
        "# Importando as Bibliotecas\n",
        "import tensorflow as tf # Biblioteca para redes neurais\n",
        "import numpy as np\n",
        "import matplotlib.pyplot as plt\n",
        "import seaborn as sns\n",
        "\n",
        "from sklearn.metrics import confusion_matrix"
      ]
    },
    {
      "cell_type": "markdown",
      "metadata": {
        "id": "y8Wwe1u1YeDQ"
      },
      "source": [
        "### Importando o dataset: MNIST\n",
        "Dataset MNIST ( Modified National Institute of Standards and database ) é um grande banco de dados de dígitos manuscritos que é comumente usado para treinar vários sistemas de processamento de imagem."
      ]
    },
    {
      "cell_type": "code",
      "execution_count": null,
      "metadata": {
        "id": "7Jvw-hTLYaTZ"
      },
      "outputs": [],
      "source": [
        "mnist_b = tf.keras.datasets.mnist"
      ]
    },
    {
      "cell_type": "code",
      "execution_count": null,
      "metadata": {
        "colab": {
          "base_uri": "https://localhost:8080/"
        },
        "id": "suLRQ6sIGbrw",
        "outputId": "7a0be109-96be-4441-d811-87e15fdee80a"
      },
      "outputs": [
        {
          "output_type": "stream",
          "name": "stdout",
          "text": [
            "Downloading data from https://storage.googleapis.com/tensorflow/tf-keras-datasets/mnist.npz\n",
            "11493376/11490434 [==============================] - 0s 0us/step\n",
            "11501568/11490434 [==============================] - 0s 0us/step\n"
          ]
        }
      ],
      "source": [
        "# lendo a dataset\n",
        "data_mnist = mnist_b.load_data()"
      ]
    },
    {
      "cell_type": "code",
      "execution_count": null,
      "metadata": {
        "colab": {
          "base_uri": "https://localhost:8080/"
        },
        "id": "vmHOPnjRZpda",
        "outputId": "91fc71ae-c620-4da5-bb39-72051a0aa661"
      },
      "outputs": [
        {
          "output_type": "execute_result",
          "data": {
            "text/plain": [
              "tuple"
            ]
          },
          "metadata": {},
          "execution_count": 4
        }
      ],
      "source": [
        "type(data_mnist)"
      ]
    },
    {
      "cell_type": "code",
      "execution_count": null,
      "metadata": {
        "colab": {
          "base_uri": "https://localhost:8080/"
        },
        "id": "1sOIe0P8bqfF",
        "outputId": "b02205ea-0ea9-414d-df79-1d58303ddf83"
      },
      "outputs": [
        {
          "output_type": "execute_result",
          "data": {
            "text/plain": [
              "2"
            ]
          },
          "metadata": {},
          "execution_count": 5
        }
      ],
      "source": [
        "len(data_mnist)"
      ]
    },
    {
      "cell_type": "code",
      "execution_count": null,
      "metadata": {
        "colab": {
          "base_uri": "https://localhost:8080/"
        },
        "id": "2jqh8eMhcAIr",
        "outputId": "ecc83ce4-7ad6-489c-cea0-2302bc6933bb"
      },
      "outputs": [
        {
          "output_type": "execute_result",
          "data": {
            "text/plain": [
              "(array([[[0, 0, 0, ..., 0, 0, 0],\n",
              "         [0, 0, 0, ..., 0, 0, 0],\n",
              "         [0, 0, 0, ..., 0, 0, 0],\n",
              "         ...,\n",
              "         [0, 0, 0, ..., 0, 0, 0],\n",
              "         [0, 0, 0, ..., 0, 0, 0],\n",
              "         [0, 0, 0, ..., 0, 0, 0]],\n",
              " \n",
              "        [[0, 0, 0, ..., 0, 0, 0],\n",
              "         [0, 0, 0, ..., 0, 0, 0],\n",
              "         [0, 0, 0, ..., 0, 0, 0],\n",
              "         ...,\n",
              "         [0, 0, 0, ..., 0, 0, 0],\n",
              "         [0, 0, 0, ..., 0, 0, 0],\n",
              "         [0, 0, 0, ..., 0, 0, 0]],\n",
              " \n",
              "        [[0, 0, 0, ..., 0, 0, 0],\n",
              "         [0, 0, 0, ..., 0, 0, 0],\n",
              "         [0, 0, 0, ..., 0, 0, 0],\n",
              "         ...,\n",
              "         [0, 0, 0, ..., 0, 0, 0],\n",
              "         [0, 0, 0, ..., 0, 0, 0],\n",
              "         [0, 0, 0, ..., 0, 0, 0]],\n",
              " \n",
              "        ...,\n",
              " \n",
              "        [[0, 0, 0, ..., 0, 0, 0],\n",
              "         [0, 0, 0, ..., 0, 0, 0],\n",
              "         [0, 0, 0, ..., 0, 0, 0],\n",
              "         ...,\n",
              "         [0, 0, 0, ..., 0, 0, 0],\n",
              "         [0, 0, 0, ..., 0, 0, 0],\n",
              "         [0, 0, 0, ..., 0, 0, 0]],\n",
              " \n",
              "        [[0, 0, 0, ..., 0, 0, 0],\n",
              "         [0, 0, 0, ..., 0, 0, 0],\n",
              "         [0, 0, 0, ..., 0, 0, 0],\n",
              "         ...,\n",
              "         [0, 0, 0, ..., 0, 0, 0],\n",
              "         [0, 0, 0, ..., 0, 0, 0],\n",
              "         [0, 0, 0, ..., 0, 0, 0]],\n",
              " \n",
              "        [[0, 0, 0, ..., 0, 0, 0],\n",
              "         [0, 0, 0, ..., 0, 0, 0],\n",
              "         [0, 0, 0, ..., 0, 0, 0],\n",
              "         ...,\n",
              "         [0, 0, 0, ..., 0, 0, 0],\n",
              "         [0, 0, 0, ..., 0, 0, 0],\n",
              "         [0, 0, 0, ..., 0, 0, 0]]], dtype=uint8),\n",
              " array([5, 0, 4, ..., 5, 6, 8], dtype=uint8))"
            ]
          },
          "metadata": {},
          "execution_count": 6
        }
      ],
      "source": [
        "data_mnist[0]"
      ]
    },
    {
      "cell_type": "code",
      "execution_count": null,
      "metadata": {
        "colab": {
          "base_uri": "https://localhost:8080/"
        },
        "id": "Z6I1lnmscDLk",
        "outputId": "a533eb12-ba24-4c24-ee59-aa946f7e3288"
      },
      "outputs": [
        {
          "output_type": "execute_result",
          "data": {
            "text/plain": [
              "2"
            ]
          },
          "metadata": {},
          "execution_count": 7
        }
      ],
      "source": [
        "len(data_mnist[0])"
      ]
    },
    {
      "cell_type": "code",
      "execution_count": null,
      "metadata": {
        "colab": {
          "base_uri": "https://localhost:8080/"
        },
        "id": "C2vKEb3pcZto",
        "outputId": "e4474fe9-02b0-485f-d42e-6a9427d789c0"
      },
      "outputs": [
        {
          "output_type": "execute_result",
          "data": {
            "text/plain": [
              "60000"
            ]
          },
          "metadata": {},
          "execution_count": 8
        }
      ],
      "source": [
        "len(data_mnist[0][0])"
      ]
    },
    {
      "cell_type": "code",
      "execution_count": null,
      "metadata": {
        "colab": {
          "base_uri": "https://localhost:8080/"
        },
        "id": "nQc1pCaklUlm",
        "outputId": "e557177d-6113-4034-a8f4-886e50873fd4"
      },
      "outputs": [
        {
          "output_type": "execute_result",
          "data": {
            "text/plain": [
              "(60000,)"
            ]
          },
          "metadata": {},
          "execution_count": 9
        }
      ],
      "source": [
        "data_mnist[0][1].shape"
      ]
    },
    {
      "cell_type": "code",
      "execution_count": null,
      "metadata": {
        "colab": {
          "base_uri": "https://localhost:8080/"
        },
        "id": "PgDd8pjVchsD",
        "outputId": "7d64c648-146e-469a-f4e1-d1d456ab8846"
      },
      "outputs": [
        {
          "output_type": "execute_result",
          "data": {
            "text/plain": [
              "(60000, 28, 28)"
            ]
          },
          "metadata": {},
          "execution_count": 10
        }
      ],
      "source": [
        "data_mnist[0][0].shape"
      ]
    },
    {
      "cell_type": "code",
      "execution_count": null,
      "metadata": {
        "colab": {
          "base_uri": "https://localhost:8080/"
        },
        "id": "duk4aGzklAxK",
        "outputId": "2468b87f-fa15-45c3-9e3b-78a583e7506a"
      },
      "outputs": [
        {
          "output_type": "execute_result",
          "data": {
            "text/plain": [
              "(10000, 28, 28)"
            ]
          },
          "metadata": {},
          "execution_count": 11
        }
      ],
      "source": [
        "data_mnist[1][0].shape"
      ]
    },
    {
      "cell_type": "code",
      "execution_count": null,
      "metadata": {
        "colab": {
          "base_uri": "https://localhost:8080/"
        },
        "id": "OYB8tNCVlHId",
        "outputId": "da9c0f1e-489f-43ef-a75f-667c5cb12012"
      },
      "outputs": [
        {
          "output_type": "execute_result",
          "data": {
            "text/plain": [
              "(10000,)"
            ]
          },
          "metadata": {},
          "execution_count": 12
        }
      ],
      "source": [
        "data_mnist[1][1].shape"
      ]
    },
    {
      "cell_type": "code",
      "execution_count": null,
      "metadata": {
        "id": "XY8OD0w9Fcsx"
      },
      "outputs": [],
      "source": [
        "# (dados_treino, dados_teste) = fashion_mist.load_data()\n",
        "(imagens_treino, lebels_treino), (imagens_teste, lebels_teste) = mnist_b.load_data()"
      ]
    },
    {
      "cell_type": "markdown",
      "metadata": {
        "id": "KPJuPnTvHX2J"
      },
      "source": [
        "### Explorando os dados"
      ]
    },
    {
      "cell_type": "code",
      "execution_count": null,
      "metadata": {
        "colab": {
          "base_uri": "https://localhost:8080/"
        },
        "id": "BpWhniAUGE2O",
        "outputId": "2412b509-ef42-4f31-f52b-b8543a8d2615"
      },
      "outputs": [
        {
          "output_type": "execute_result",
          "data": {
            "text/plain": [
              "(60000, 28, 28)"
            ]
          },
          "metadata": {},
          "execution_count": 14
        }
      ],
      "source": [
        "imagens_treino.shape"
      ]
    },
    {
      "cell_type": "code",
      "execution_count": null,
      "metadata": {
        "colab": {
          "base_uri": "https://localhost:8080/"
        },
        "id": "7luSzvfIHlmy",
        "outputId": "23c6ab2b-bd90-43ba-b488-38e64cfe450e"
      },
      "outputs": [
        {
          "output_type": "execute_result",
          "data": {
            "text/plain": [
              "(60000,)"
            ]
          },
          "metadata": {},
          "execution_count": 15
        }
      ],
      "source": [
        "lebels_treino.shape"
      ]
    },
    {
      "cell_type": "code",
      "execution_count": null,
      "metadata": {
        "colab": {
          "base_uri": "https://localhost:8080/"
        },
        "id": "0GB9O9UqHtz5",
        "outputId": "e1d4c897-752e-4fa9-f59e-84ddbbe05612"
      },
      "outputs": [
        {
          "output_type": "execute_result",
          "data": {
            "text/plain": [
              "(10000, 28, 28)"
            ]
          },
          "metadata": {},
          "execution_count": 16
        }
      ],
      "source": [
        "imagens_teste.shape"
      ]
    },
    {
      "cell_type": "code",
      "execution_count": null,
      "metadata": {
        "colab": {
          "base_uri": "https://localhost:8080/"
        },
        "id": "EhqVgjVUHwXm",
        "outputId": "de4e5f74-23cf-425c-fd72-39a3f44e16df"
      },
      "outputs": [
        {
          "output_type": "execute_result",
          "data": {
            "text/plain": [
              "(10000,)"
            ]
          },
          "metadata": {},
          "execution_count": 17
        }
      ],
      "source": [
        "lebels_teste.shape"
      ]
    },
    {
      "cell_type": "code",
      "execution_count": null,
      "metadata": {
        "colab": {
          "base_uri": "https://localhost:8080/"
        },
        "id": "vPfYjYp2H1jR",
        "outputId": "e359a207-620c-42ae-cd02-8b976f828362"
      },
      "outputs": [
        {
          "output_type": "execute_result",
          "data": {
            "text/plain": [
              "array([0, 1, 2, 3, 4, 5, 6, 7, 8, 9], dtype=uint8)"
            ]
          },
          "metadata": {},
          "execution_count": 18
        }
      ],
      "source": [
        "# Quantidade de classes diferentes nas lebels\n",
        "np.unique(lebels_treino)"
      ]
    },
    {
      "cell_type": "markdown",
      "metadata": {
        "id": "ryDk3wF5IjCD"
      },
      "source": [
        "### Pré-processamento de dados"
      ]
    },
    {
      "cell_type": "code",
      "execution_count": null,
      "metadata": {
        "colab": {
          "base_uri": "https://localhost:8080/",
          "height": 282
        },
        "id": "GuEIU8fgIfwT",
        "outputId": "d757ad62-6140-4bf3-ffa8-1fd598b9c86f"
      },
      "outputs": [
        {
          "output_type": "execute_result",
          "data": {
            "text/plain": [
              "<function matplotlib.pyplot.show>"
            ]
          },
          "metadata": {},
          "execution_count": 19
        },
        {
          "output_type": "display_data",
          "data": {
            "text/plain": [
              "<Figure size 432x288 with 2 Axes>"
            ],
            "image/png": "[encoded data removed]"
          },
          "metadata": {
            "needs_background": "light"
          }
        }
      ],
      "source": [
        "# Visualizando a primeira imagem do conjunto de treinamento\n",
        "plt.figure\n",
        "plt.imshow(imagens_treino[0], cmap = \"gray\")\n",
        "plt.colorbar()\n",
        "plt.show"
      ]
    },
    {
      "cell_type": "code",
      "execution_count": null,
      "metadata": {
        "colab": {
          "base_uri": "https://localhost:8080/",
          "height": 163
        },
        "id": "c0VObgkfKZT-",
        "outputId": "fdc2f48b-e94d-4e2e-ec7b-1a50dc86f80a"
      },
      "outputs": [
        {
          "output_type": "display_data",
          "data": {
            "text/plain": [
              "<Figure size 432x288 with 25 Axes>"
            ],
            "image/png": "[encoded data removed]"
          },
          "metadata": {}
        }
      ],
      "source": [
        "# Imprimir as 25 primeiras imagens, em um quadro de 5 por 10 imagens \n",
        "plt.figure\n",
        "\n",
        "for i in range(25):\n",
        "  plt.subplot(5, 10, i+1)\n",
        "  plt.imshow(imagens_treino[i], cmap=\"gray\")\n",
        "  plt.xticks([])\n",
        "  plt.yticks([])\n",
        "  plt.grid(False)\n",
        "  plt.xlabel(lebels_treino[i]) # Mesmo indices de imagen\n",
        "plt.show()"
      ]
    },
    {
      "cell_type": "markdown",
      "metadata": {
        "id": "YXWp3GqNgNvp"
      },
      "source": [
        "### Criando o modelo de Deep Learning"
      ]
    },
    {
      "cell_type": "markdown",
      "metadata": {
        "id": "aa3GM4wvY0fn"
      },
      "source": [
        "Um modelo de Deep Learning usa uma rede neural artificial. A rede neural artificial possui neurônios organizados em camadas. Devemos definir quantas camadas e quantos neurônios por camada teremos no nosso modelo. Vamos utilizar o módulo keras dentro do Tensorflow"
      ]
    },
    {
      "cell_type": "code",
      "execution_count": null,
      "metadata": {
        "id": "5oRM2LFkY9vW"
      },
      "outputs": [],
      "source": [
        "model_rede_artificial = tf.keras.Sequential([\n",
        "                             tf.keras.layers.Flatten(input_shape=(28,28)),\n",
        "                             tf.keras.layers.Dense(128, activation=\"relu\"),\n",
        "                             tf.keras.layers.Dense(10)\n",
        "])"
      ]
    },
    {
      "cell_type": "code",
      "execution_count": null,
      "metadata": {
        "id": "ZyUMKwEAZRn2"
      },
      "outputs": [],
      "source": [
        "model_rede_artificial.compile(optimizer=\"adam\",\n",
        "                              loss=tf.keras.losses.SparseCategoricalCrossentropy(from_logits=True),\n",
        "                              metrics=[\"accuracy\"]\n",
        ")"
      ]
    },
    {
      "cell_type": "markdown",
      "metadata": {
        "id": "3CExb4u22TZL"
      },
      "source": [
        "### Treinando o modelo rede neural artificial com o conjunto de treinamento (60 mil imagens e labels)"
      ]
    },
    {
      "cell_type": "code",
      "execution_count": null,
      "metadata": {
        "colab": {
          "base_uri": "https://localhost:8080/"
        },
        "id": "_LWI_5FMZVd-",
        "outputId": "04555631-97d6-45a8-b4f0-3bbd3ae77573"
      },
      "outputs": [
        {
          "output_type": "stream",
          "name": "stdout",
          "text": [
            "Epoch 1/10\n",
            "1875/1875 [==============================] - 11s 5ms/step - loss: 2.4188 - accuracy: 0.8565\n",
            "Epoch 2/10\n",
            "1875/1875 [==============================] - 7s 4ms/step - loss: 0.3751 - accuracy: 0.9109\n",
            "Epoch 3/10\n",
            "1875/1875 [==============================] - 5s 3ms/step - loss: 0.2798 - accuracy: 0.9292\n",
            "Epoch 4/10\n",
            "1875/1875 [==============================] - 5s 3ms/step - loss: 0.2508 - accuracy: 0.9365\n",
            "Epoch 5/10\n",
            "1875/1875 [==============================] - 5s 3ms/step - loss: 0.2316 - accuracy: 0.9428\n",
            "Epoch 6/10\n",
            "1875/1875 [==============================] - 5s 3ms/step - loss: 0.2212 - accuracy: 0.9446\n",
            "Epoch 7/10\n",
            "1875/1875 [==============================] - 5s 3ms/step - loss: 0.1965 - accuracy: 0.9495\n",
            "Epoch 8/10\n",
            "1875/1875 [==============================] - 5s 3ms/step - loss: 0.1927 - accuracy: 0.9526\n",
            "Epoch 9/10\n",
            "1875/1875 [==============================] - 5s 3ms/step - loss: 0.1924 - accuracy: 0.9531\n",
            "Epoch 10/10\n",
            "1875/1875 [==============================] - 5s 3ms/step - loss: 0.1823 - accuracy: 0.9552\n"
          ]
        },
        {
          "output_type": "execute_result",
          "data": {
            "text/plain": [
              "<keras.callbacks.History at 0x7f7980323f90>"
            ]
          },
          "metadata": {},
          "execution_count": 23
        }
      ],
      "source": [
        "model_rede_artificial.fit(x=imagens_treino, y=lebels_treino, epochs=10)"
      ]
    },
    {
      "cell_type": "markdown",
      "metadata": {
        "id": "HaqX6NXh2e2v"
      },
      "source": [
        "Avaliando a performance do conjunto de teste"
      ]
    },
    {
      "cell_type": "code",
      "execution_count": null,
      "metadata": {
        "colab": {
          "base_uri": "https://localhost:8080/"
        },
        "id": "-zYpAmqSZw81",
        "outputId": "e2d7a506-373d-43f8-cddb-0eaca1a5e71e"
      },
      "outputs": [
        {
          "output_type": "stream",
          "name": "stdout",
          "text": [
            "313/313 [==============================] - 1s 2ms/step - loss: 0.2845 - accuracy: 0.9455\n",
            "Accuracia do modelo conjunto de teste: 0.9455000162124634\n"
          ]
        }
      ],
      "source": [
        "test_loos, test_accuracy = model_rede_artificial.evaluate(imagens_teste, lebels_teste)\n",
        "print(f\"Accuracia do modelo conjunto de teste: {test_accuracy}\")"
      ]
    },
    {
      "cell_type": "markdown",
      "metadata": {
        "id": "Lb4yaOBsE2el"
      },
      "source": [
        "Criando uma matriz de confusão dos resultados da rede neural artificial "
      ]
    },
    {
      "cell_type": "code",
      "execution_count": null,
      "metadata": {
        "colab": {
          "base_uri": "https://localhost:8080/",
          "height": 351
        },
        "id": "oernjosr2jgv",
        "outputId": "328d2548-d4b6-438b-e3d2-637e3a3c269c"
      },
      "outputs": [
        {
          "output_type": "execute_result",
          "data": {
            "text/plain": [
              "[Text(69.0, 0.5, 'Classes real'), Text(0.5, 24.0, 'Classes previsão')]"
            ]
          },
          "metadata": {},
          "execution_count": 25
        },
        {
          "output_type": "display_data",
          "data": {
            "text/plain": [
              "<Figure size 720x360 with 2 Axes>"
            ],
            "image/png": "[encoded data removed]"
          },
          "metadata": {
            "needs_background": "light"
          }
        }
      ],
      "source": [
        "previsoes_rna = np.argmax(model_rede_artificial.predict(imagens_teste), axis=-1)\n",
        "\n",
        "matriz_confusao = confusion_matrix(lebels_teste, previsoes_rna)\n",
        "\n",
        "\n",
        "plt.figure(figsize=(10,5))\n",
        "p = sns.heatmap(matriz_confusao, annot=True, fmt=\".1f\")\n",
        "p.set( xlabel = \"Classes previsão\", ylabel = \"Classes real\")\n"
      ]
    },
    {
      "cell_type": "markdown",
      "source": [
        "### Avaliação dos resultados da matriz de confusão da rede neural artificial: \n",
        "* Acurácia alcançada após do treinamendo do modelo da rede neural artificial foi aproximadamente 94% de precisão.\n",
        "\n",
        "* As 6 maiores combinações que tiveram mais erro:\n",
        "  * 4 = 9: errou 50 vezes \n",
        "  * 7 = 9: errou 38 vezes \n",
        "  * 5 = 8: errou 28 vezes\n",
        "  * 5 = 9: errou 27 vezes\n",
        "  * 5 = 3: errou 26 vezes\n",
        "  * 7 = 2: errou 26 vezes\n",
        "\n",
        "==================================================================================================================\n",
        "\n",
        "* Após analisar a matriz de confusão da rede neural artificial podemos ver que o número que mais teve erro foi o 5 tendo a taxa de acerto de 793 a menor entre demais, tendo os maiores erros confundindo 5 por 8 que teve 28 erros, com 9 que teve 27 erros e com 3 tendo 26 erros. \n",
        "\n",
        "* O segundo número que teve mais erros foi o 4 tendo a taxa de acerto de 894, tendo os maiores erros confundindo 4 por 9 que teve 50 erros sendo o maior número de erros em um unico par da matriz de confusão e confundindo 4 por 8 que foi 19 erros.\n",
        "\n",
        "* O terceiro número que teve mais erros coloquei como 7 mesmo tendo uma taxa de acerto de 942 que é maior que a taxta do 8, porque o modelo confudiu o 7 com 9 que tev 38 erros só perdendo para 4 que confundiu com 9 que foi 50 vezes e ainda confundiu 7 com 2 que teve 26 vezes   \n",
        "\n",
        "* Assim, podemos criar uma hipótese que o 5 dependendo de como ele é escrito pode se parecer com os números 8, 9, 3 acima fazendo com o que o modelo se confunda, não só o 5 como 7 com 9, 2 e como o 4 com 9 que foi o par que teve mais erros."
      ],
      "metadata": {
        "id": "tm8mjZmVcgKD"
      }
    },
    {
      "cell_type": "markdown",
      "metadata": {
        "id": "vZAfhECzgVWx"
      },
      "source": [
        "Um modelo de Deep Learning usa uma rede neural convolucional. "
      ]
    },
    {
      "cell_type": "code",
      "execution_count": null,
      "metadata": {
        "id": "HGsLb4jjQ8S-"
      },
      "outputs": [],
      "source": [
        "model_rede_convolucional = tf.keras.models.Sequential([\n",
        "                                    tf.keras.layers.Conv2D(64, (3,3), activation=\"relu\",\n",
        "                                                           input_shape=(28, 28, 1)),\n",
        "                                    tf.keras.layers.MaxPool2D(2, 2),\n",
        "                                    tf.keras.layers.Conv2D(64, (3,3), activation=\"relu\"),\n",
        "                                    tf.keras.layers.MaxPool2D(2, 2), \n",
        "                                    tf.keras.layers.Flatten(),\n",
        "                                    tf.keras.layers.Dense(128, activation=\"relu\"),\n",
        "                                    tf.keras.layers.Dense(10, activation=\"softmax\")\n",
        "])"
      ]
    },
    {
      "cell_type": "code",
      "execution_count": null,
      "metadata": {
        "id": "DhtiJzOIjvIG"
      },
      "outputs": [],
      "source": [
        "model_rede_convolucional.compile(optimizer=\"adam\",\n",
        "                              loss=tf.keras.losses.SparseCategoricalCrossentropy(from_logits=True),\n",
        "                              metrics=[\"accuracy\"]\n",
        ")"
      ]
    },
    {
      "cell_type": "markdown",
      "metadata": {
        "id": "cKzso-V_j2qf"
      },
      "source": [
        "### Treinando o modelo rede neural convuluocional com o conjunto de treinamento (60 mil imagens e labels)"
      ]
    },
    {
      "cell_type": "code",
      "execution_count": null,
      "metadata": {
        "colab": {
          "base_uri": "https://localhost:8080/"
        },
        "id": "FKVZHortj7uT",
        "outputId": "fad36920-8fb9-4192-f15e-4a9d662b5444"
      },
      "outputs": [
        {
          "output_type": "stream",
          "name": "stdout",
          "text": [
            "Epoch 1/10\n"
          ]
        },
        {
          "output_type": "stream",
          "name": "stderr",
          "text": [
            "/usr/local/lib/python3.7/dist-packages/tensorflow/python/util/dispatch.py:1082: UserWarning: \"`sparse_categorical_crossentropy` received `from_logits=True`, but the `output` argument was produced by a sigmoid or softmax activation and thus does not represent logits. Was this intended?\"\n",
            "  return dispatch_target(*args, **kwargs)\n"
          ]
        },
        {
          "output_type": "stream",
          "name": "stdout",
          "text": [
            "1875/1875 [==============================] - 89s 47ms/step - loss: 0.2706 - accuracy: 0.9523\n",
            "Epoch 2/10\n",
            "1875/1875 [==============================] - 88s 47ms/step - loss: 0.0630 - accuracy: 0.9806\n",
            "Epoch 3/10\n",
            "1875/1875 [==============================] - 87s 47ms/step - loss: 0.0478 - accuracy: 0.9855\n",
            "Epoch 4/10\n",
            "1875/1875 [==============================] - 86s 46ms/step - loss: 0.0404 - accuracy: 0.9877\n",
            "Epoch 5/10\n",
            "1875/1875 [==============================] - 86s 46ms/step - loss: 0.0324 - accuracy: 0.9901\n",
            "Epoch 6/10\n",
            "1875/1875 [==============================] - 86s 46ms/step - loss: 0.0288 - accuracy: 0.9911\n",
            "Epoch 7/10\n",
            "1875/1875 [==============================] - 86s 46ms/step - loss: 0.0282 - accuracy: 0.9916\n",
            "Epoch 8/10\n",
            "1875/1875 [==============================] - 86s 46ms/step - loss: 0.0229 - accuracy: 0.9927\n",
            "Epoch 9/10\n",
            "1875/1875 [==============================] - 87s 46ms/step - loss: 0.0210 - accuracy: 0.9940\n",
            "Epoch 10/10\n",
            "1875/1875 [==============================] - 86s 46ms/step - loss: 0.0183 - accuracy: 0.9947\n"
          ]
        },
        {
          "output_type": "execute_result",
          "data": {
            "text/plain": [
              "<keras.callbacks.History at 0x7f79842d7590>"
            ]
          },
          "metadata": {},
          "execution_count": 29
        }
      ],
      "source": [
        "model_rede_convolucional.fit(x=imagens_treino, y=lebels_treino, epochs=10)"
      ]
    },
    {
      "cell_type": "markdown",
      "metadata": {
        "id": "ZVN5Ps-8nU9O"
      },
      "source": [
        "Avaliando a performance do conjunto de teste"
      ]
    },
    {
      "cell_type": "code",
      "execution_count": null,
      "metadata": {
        "colab": {
          "base_uri": "https://localhost:8080/"
        },
        "id": "-br7IjIjj-rX",
        "outputId": "de70aabf-0b22-4dc1-f20b-6eec69054e8c"
      },
      "outputs": [
        {
          "output_type": "stream",
          "name": "stdout",
          "text": [
            "  5/313 [..............................] - ETA: 4s - loss: 0.1925 - accuracy: 0.9750 "
          ]
        },
        {
          "output_type": "stream",
          "name": "stderr",
          "text": [
            "/usr/local/lib/python3.7/dist-packages/tensorflow/python/util/dispatch.py:1082: UserWarning: \"`sparse_categorical_crossentropy` received `from_logits=True`, but the `output` argument was produced by a sigmoid or softmax activation and thus does not represent logits. Was this intended?\"\n",
            "  return dispatch_target(*args, **kwargs)\n"
          ]
        },
        {
          "output_type": "stream",
          "name": "stdout",
          "text": [
            "313/313 [==============================] - 5s 14ms/step - loss: 0.0642 - accuracy: 0.9883\n",
            "Accuracia do modelo conjunto de teste: 0.9883000254631042\n"
          ]
        }
      ],
      "source": [
        "test_loos, test_accuracy = model_rede_convolucional.evaluate(imagens_teste, lebels_teste)\n",
        "print(f\"Accuracia do modelo conjunto de teste: {test_accuracy}\")"
      ]
    },
    {
      "cell_type": "markdown",
      "metadata": {
        "id": "nHqdWQ8QE8bE"
      },
      "source": [
        "Criando uma matriz de confusão"
      ]
    },
    {
      "cell_type": "code",
      "execution_count": null,
      "metadata": {
        "colab": {
          "base_uri": "https://localhost:8080/",
          "height": 351
        },
        "id": "U-la7rZNFBDn",
        "outputId": "eef88055-b488-41a2-bf87-4c8a4fe702de"
      },
      "outputs": [
        {
          "output_type": "execute_result",
          "data": {
            "text/plain": [
              "[Text(69.0, 0.5, 'Classes real'), Text(0.5, 24.0, 'Classes previsão')]"
            ]
          },
          "metadata": {},
          "execution_count": 31
        },
        {
          "output_type": "display_data",
          "data": {
            "text/plain": [
              "<Figure size 720x360 with 2 Axes>"
            ],
            "image/png": "[encoded data removed]"
          },
          "metadata": {
            "needs_background": "light"
          }
        }
      ],
      "source": [
        "previsoes_rnc = np.argmax(model_rede_convolucional.predict(imagens_teste), axis=-1)\n",
        "\n",
        "matriz_confusao = confusion_matrix(lebels_teste, previsoes_rnc)\n",
        "\n",
        "\n",
        "plt.figure(figsize=(10,5))\n",
        "p = sns.heatmap(matriz_confusao, annot=True, fmt=\".1f\")\n",
        "p.set( xlabel = \"Classes previsão\", ylabel = \"Classes real\")"
      ]
    },
    {
      "cell_type": "markdown",
      "source": [
        "### Avaliação dos resultados da matriz de confusão da rede neural convolucional: \n",
        "* Acurácia alcançada após do treinamendo do modelo da rede neural convolucional foi aproximadamente 98% de precisão.\n",
        "\n",
        "* As 3 maiores combinações que tiveram mais erro:\n",
        "  * 4 = 9: 8 erros \n",
        "  * 5 = 3: 6 erros \n",
        "  * 8 = 0: 5 erros\n",
        "\n",
        "\n",
        "==================================================================================================================\n",
        "\n",
        "* Após analisar a matriz de confusão da rede neural convolucional pode ver que a taxa de erros não passa de 10. Assim, os 3 números que tiveram mais erros seriam o 4 que é confundido por 9 que teve 8 erros, logo apos teria o 5 que é confundido por 3 que teve 6 erros e por ultimo teriamos o número 8 que é confundido por 0 que tem 5 erros.\n",
        "\n"
      ],
      "metadata": {
        "id": "fUHFXmTSUrQX"
      }
    },
    {
      "cell_type": "markdown",
      "source": [
        "## Conclusão\n",
        "\n",
        "* Após ver os 2 resultados dos modelos apresentados nessa análise sendo um modelo de rede neural artifical e outro modelo de rede neural convolucional, que teve resultados melhores na acurácia do modelo pelo fato da convolucional filtrar as imagens antes de treinar a rede neural, podendo assim as características das imagens podem ser destacadas aumentando a texa de acerto.\n",
        "\n",
        "* Exemplo: Na rede neural artifical o número 4 foi classificado como 9 umas 50 vezes em comparação na rede neural convolucional que classificou 4 como sendo 9 só 8 vezes.\n",
        "\n",
        "* Portanto o modelo que sera usado é rede neural convolucional."
      ],
      "metadata": {
        "id": "iFP6U3P-a_AC"
      }
    }
  ],
  "metadata": {
    "colab": {
      "name": "mnist.ipynb",
      "provenance": [],
      "authorship_tag": "ABX9TyOiXo305yXwoiyGqxjMsRpX",
      "include_colab_link": true
    },
    "kernelspec": {
      "display_name": "Python 3",
      "name": "python3"
    },
    "language_info": {
      "name": "python"
    }
  },
  "nbformat": 4,
  "nbformat_minor": 0
}